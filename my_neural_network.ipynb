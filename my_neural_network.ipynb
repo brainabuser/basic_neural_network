{
 "cells": [
  {
   "cell_type": "code",
   "execution_count": 1,
   "metadata": {},
   "outputs": [],
   "source": [
    "#Библеотека с матричной логикой\n",
    "import numpy\n",
    "#Библиотека с функцией активации(сигмоида)\n",
    "import scipy.special"
   ]
  },
  {
   "cell_type": "code",
   "execution_count": 4,
   "metadata": {},
   "outputs": [],
   "source": [
    "class neuralNetwork:\n",
    "    \n",
    "    #Инициализация\n",
    "    def __init__(self, input_nodes, hidden_nodes, output_nodes, learning_rate):\n",
    "        self.i_nodes = input_nodes\n",
    "        self.h_nodes = hidden_nodes\n",
    "        self.o_nodes = output_nodes\n",
    "        \n",
    "        self.l_rate = learning_rate\n",
    "\n",
    "        #Лямбда-функция, принимающая x и возвращающая сигмоиду\n",
    "        self.activation_function = lambda x: scipy.special.expit(x)\n",
    "        \n",
    "        #Матрицы весовых коэффициентов между парами слоев(входным - i, скрытым - h, выходным - o)\n",
    "        self.w_i_h = numpy.random.normal(0.0, pow(hidden_nodes, -0.5), (hidden_nodes, input_nodes))\n",
    "        self.w_h_o = numpy.random.normal(0.0, pow(output_nodes, -0.5), (output_nodes, hidden_nodes))        \n",
    "        pass\n",
    "    \n",
    "    #Тренировка\n",
    "    def train(self, inputs_list, targets_list):\n",
    "        \n",
    "        inputs = numpy.array(inputs_list, ndmin = 2).T\n",
    "        tagets = numpy.array(targets_list, ndmin = 2).T\n",
    "        \n",
    "        hidden_inputs = numpy.dot(self.w_i_h, inputs)\n",
    "    \n",
    "        hidden_outputs = self.activation_function(hidden_inputs)\n",
    "        \n",
    "        #Аналогично для скрытого-выходного\n",
    "        final_inputs = numpy.dot(self.w_h_o, hidden_outputs)\n",
    "    \n",
    "        final_outputs = self.activation_function(final_inputs)\n",
    "        \n",
    "        #Рассчитаем разницу между ожидаемым и полученным результатами\n",
    "        output_errors = targets_list - final_outputs\n",
    "        \n",
    "        #Обратное распространение ошибки по формуле E_h = ((W)^t)_h_o * E_o\n",
    "        hidden_errors = numpy.dot(self.w_h_o.T, output_errors)\n",
    "        \n",
    "        #Обновляем весовые коэффициенты dW_j_k = alpha * E_k * sigm(O_k)*(1 - sigm(O_k))*((O)^T)_j\n",
    "        self.w_h_o += self.learning_rate * numpy.dot(output_errors * final_outputs * (1 - final_outputs), hidden_outputs.T)\n",
    "        self.w_i_h += self.learning_rate * numpy.dot(hidden_errors * hidden_outputs * (1 - hidden_outputs), inputs.T)\n",
    "        pass\n",
    "    \n",
    "    #Опрос\n",
    "    def query(self, inputs_list):\n",
    "        #Преобразование списска значений в двумерный массив\n",
    "        inputs = numpy.array(inputs_list, ndmin = 2).T\n",
    "\n",
    "        #Матричное уравнение O = W * I для входного - скрытого\n",
    "        hidden_inputs = numpy.dot(self.w_i_h, inputs)\n",
    "    \n",
    "        hidden_outputs = self.activation_function(hidden_inputs)\n",
    "        \n",
    "        #Аналогично для скрытого-выходного\n",
    "        final_inputs = numpy.dot(self.w_h_o, hidden_outputs)\n",
    "    \n",
    "        final_outputs = self.activation_function(final_inputs)\n",
    "        \n",
    "        return final_outputs"
   ]
  },
  {
   "cell_type": "code",
   "execution_count": 29,
   "metadata": {},
   "outputs": [],
   "source": [
    "input_nodes = 3\n",
    "hidden_nodes = 3\n",
    "output_nodes = 3\n",
    "\n",
    "learning_rate = 0.3\n",
    "\n",
    "n = neuralNetwork(input_nodes, hidden_nodes, output_nodes, learning_rate)"
   ]
  },
  {
   "cell_type": "code",
   "execution_count": 31,
   "metadata": {},
   "outputs": [
    {
     "data": {
      "text/plain": [
       "array([[0.57236723],\n",
       "       [0.65809309],\n",
       "       [0.4254139 ]])"
      ]
     },
     "execution_count": 31,
     "metadata": {},
     "output_type": "execute_result"
    }
   ],
   "source": [
    "n.query([1.0, 0.5, -1.5])"
   ]
  }
 ],
 "metadata": {
  "kernelspec": {
   "display_name": "Python 3",
   "language": "python",
   "name": "python3"
  },
  "language_info": {
   "codemirror_mode": {
    "name": "ipython",
    "version": 3
   },
   "file_extension": ".py",
   "mimetype": "text/x-python",
   "name": "python",
   "nbconvert_exporter": "python",
   "pygments_lexer": "ipython3",
   "version": "3.7.4"
  }
 },
 "nbformat": 4,
 "nbformat_minor": 2
}
